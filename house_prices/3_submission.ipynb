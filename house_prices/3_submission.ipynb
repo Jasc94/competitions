{
 "cells": [
  {
   "cell_type": "markdown",
   "source": [
    "# Submission"
   ],
   "metadata": {}
  },
  {
   "cell_type": "code",
   "execution_count": 12,
   "source": [
    "import numpy as np\n",
    "import pandas as pd\n",
    "\n",
    "from sklearn.linear_model import Lasso, Ridge\n",
    "from sklearn.model_selection import train_test_split\n",
    "from sklearn.preprocessing import MinMaxScaler\n",
    "from sklearn.metrics import mean_squared_error, mean_squared_log_error\n",
    "\n",
    "import utils.visualization_tb as vi\n",
    "import utils.mining_data_tb as md\n",
    "\n",
    "import warnings\n",
    "\n",
    "warnings.filterwarnings(\"ignore\")"
   ],
   "outputs": [],
   "metadata": {}
  },
  {
   "cell_type": "code",
   "execution_count": 3,
   "source": [
    "### Train data\n",
    "train = pd.read_csv(\"data/train.csv\", index_col = 0)\n",
    "train_data, train_target = train.drop(\"SalePrice\", axis = 1), train.loc[:, \"SalePrice\"]\n",
    "\n",
    "### Test data\n",
    "test_data = pd.read_csv(\"data/test.csv\", index_col = 0)\n",
    "# Ids to differentiate test data from train data\n",
    "ids = test_data.index\n",
    "\n",
    "# Now let's join the data\n",
    "dataset = pd.concat([train_data, test_data], axis = 0)\n",
    "dataset = md.ready_to_use(dataset)\n",
    "\n",
    "# Finally, I split the data again between train data (to train the model)\n",
    "# and test data (for the Kaggle submission)\n",
    "train_data = dataset.drop(ids)\n",
    "test_data = dataset.loc[ids, :]"
   ],
   "outputs": [],
   "metadata": {}
  },
  {
   "cell_type": "code",
   "execution_count": 16,
   "source": [
    "seed = 42\n",
    "scaler = MinMaxScaler()\n",
    "models = Ridge(alpha = 10), Lasso(alpha = 10)\n",
    "\n",
    "#### Training\n",
    "for model in models:\n",
    "    # Target and independent variables\n",
    "    train_data = np.array(train_data)\n",
    "    train_data = scaler.fit_transform(train_data)\n",
    "    train_target = np.array(train_target)\n",
    "\n",
    "    model.fit(train_data, train_target)\n",
    "\n",
    "    #### Prediction\n",
    "    test_data = np.array(test_data)\n",
    "    test_data = scaler.fit_transform(test_data)\n",
    "\n",
    "    predictions = model.predict(test_data)\n",
    "\n",
    "    #### Submission\n",
    "    submission = pd.DataFrame(predictions, index = ids, columns = [\"SalePrice\"])\n",
    "    submission.to_csv(f\"submissions/submission_{str(model)}.csv\")"
   ],
   "outputs": [],
   "metadata": {}
  },
  {
   "cell_type": "code",
   "execution_count": null,
   "source": [],
   "outputs": [],
   "metadata": {}
  }
 ],
 "metadata": {
  "orig_nbformat": 4,
  "language_info": {
   "name": "python",
   "version": "3.7.4",
   "mimetype": "text/x-python",
   "codemirror_mode": {
    "name": "ipython",
    "version": 3
   },
   "pygments_lexer": "ipython3",
   "nbconvert_exporter": "python",
   "file_extension": ".py"
  },
  "kernelspec": {
   "name": "python3",
   "display_name": "Python 3.7.4 64-bit"
  },
  "interpreter": {
   "hash": "aee8b7b246df8f9039afb4144a1f6fd8d2ca17a180786b69acc140d282b71a49"
  }
 },
 "nbformat": 4,
 "nbformat_minor": 2
}