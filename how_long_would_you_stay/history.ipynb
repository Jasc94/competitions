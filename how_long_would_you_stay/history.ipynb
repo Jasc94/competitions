{
 "cells": [
  {
   "cell_type": "code",
   "execution_count": null,
   "source": [
    "# Train-test split\n",
    "X_train, X_test, y_train, y_test = train_test_split(X_st_scaled, y, test_size = .2, random_state = seed)\n",
    "\n",
    "# Training\n",
    "model.fit(X_train, y_train)\n",
    "\n",
    "# Scores\n",
    "train_score = model.score(X_train, y_train)\n",
    "test_score = model.score(X_test, y_test)\n",
    "\n",
    "predictions = model.predict(X_test)\n",
    "cm = metrics.confusion_matrix(y_test, predictions)\n",
    "\n",
    "print(\"Using Standard Scaler\")\n",
    "print(f\"Train score (n = {len(y_train)}): {train_score}\")\n",
    "print(f\"Test score (n = {len(y_test)}): {test_score}\")\n",
    "print(\"\\nConfusion matrix\\n\", cm)"
   ],
   "outputs": [],
   "metadata": {}
  },
  {
   "cell_type": "code",
   "execution_count": null,
   "source": [
    "# Train-test split\n",
    "X_train, X_test, y_train, y_test = train_test_split(X_mm_scaled, y, test_size = .2, random_state = seed)\n",
    "\n",
    "# Training\n",
    "model.fit(X_train, y_train)\n",
    "\n",
    "# Scores\n",
    "train_score = model.score(X_train, y_train)\n",
    "test_score = model.score(X_test, y_test)\n",
    "\n",
    "predictions = model.predict(X_test)\n",
    "cm = metrics.confusion_matrix(y_test, predictions)\n",
    "\n",
    "print(\"Using MinMax Scaler\")\n",
    "print(f\"Train score (n = {len(y_train)}): {train_score}\")\n",
    "print(f\"Test score (n = {len(y_test)}): {test_score}\")\n",
    "\n",
    "print(\"\\nConfusion matrix\\n\", cm)"
   ],
   "outputs": [],
   "metadata": {}
  },
  {
   "cell_type": "code",
   "execution_count": null,
   "source": [
    "print(f\"Recall: {metrics.recall_score(y_test, predictions, average = 'weighted')}\")\n",
    "print(f\"Precision: {metrics.precision_score(y_test, predictions, average = 'weighted')}\")\n",
    "print(f\"F1: {metrics.f1_score(y_test, predictions, average = 'weighted')}\")\n",
    "print(f\"Accuracy: {metrics.accuracy_score(y_test, predictions)}\")"
   ],
   "outputs": [],
   "metadata": {}
  }
 ],
 "metadata": {
  "orig_nbformat": 4,
  "language_info": {
   "name": "python"
  }
 },
 "nbformat": 4,
 "nbformat_minor": 2
}